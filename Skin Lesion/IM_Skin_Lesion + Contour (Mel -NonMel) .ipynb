{
 "cells": [
  {
   "cell_type": "code",
   "execution_count": 1,
   "metadata": {},
   "outputs": [],
   "source": [
    "#imports \n",
    "import sys\n",
    "import warnings\n",
    "\n",
    "if not sys.warnoptions:\n",
    "    warnings.simplefilter(\"ignore\")\n",
    "\n",
    "\n",
    "import numpy as np\n",
    "import cv2\n",
    "import matplotlib.image as mpimg\n",
    "import matplotlib.pyplot as plt\n",
    "import glob\n",
    "import mahotas\n",
    "from sklearn.feature_selection import SelectKBest, f_classif\n",
    "from sklearn.neighbors import KNeighborsClassifier\n",
    "from sklearn.metrics import accuracy_score\n",
    "from sklearn.model_selection import train_test_split\n",
    "from sklearn import svm\n",
    "import csv"
   ]
  },
  {
   "cell_type": "code",
   "execution_count": 3,
   "metadata": {},
   "outputs": [],
   "source": [
    "#Reading Images and their contours"
   ]
  },
  {
   "cell_type": "code",
   "execution_count": 2,
   "metadata": {},
   "outputs": [],
   "source": [
    "image_orig = []\n",
    "image_cont = []\n",
    "image_labels = []\n",
    "image_name = []\n",
    "path1 = 'Skin_lesion_DB/Training/mel/Contour/*.png'\n",
    "path2 = 'Skin_lesion_DB/Training/mel/Orig/*.jpg'\n",
    "for f1, f2 in zip(glob.glob(path1), glob.glob(path2)): \n",
    "    img2=mpimg.imread(f1)\n",
    "    img1=mpimg.imread(f2)\n",
    "    image_orig.append(img1)\n",
    "    image_cont.append(img2)\n",
    "    image_labels.append(0)\n",
    "\n",
    "path1 = 'Skin_lesion_DB/Training/nonmel/Contour/*.png'\n",
    "path2 = 'Skin_lesion_DB/Training/nonmel/Orig/*.jpg'\n",
    "for f1, f2 in zip(glob.glob(path1), glob.glob(path2)): \n",
    "    img2=mpimg.imread(f1)\n",
    "    img1=mpimg.imread(f2)\n",
    "    image_orig.append(img1)\n",
    "    image_cont.append(img2)\n",
    "    image_labels.append(1)"
   ]
  },
  {
   "cell_type": "code",
   "execution_count": 3,
   "metadata": {},
   "outputs": [],
   "source": [
    "#Orig+Contour \n",
    "def origSegcont(orig, cont):\n",
    "    r = orig[:,:,0]\n",
    "    g = orig[:,:,1]\n",
    "    b = orig[:,:,2]\n",
    "    rc = np.multiply(r, cont)\n",
    "    gc = np.multiply(g, cont)\n",
    "    bc = np.multiply(b, cont)\n",
    "    return np.dstack((rc,gc,bc)).astype(np.uint8)"
   ]
  },
  {
   "cell_type": "code",
   "execution_count": 4,
   "metadata": {},
   "outputs": [],
   "source": [
    "image_orSegco = [origSegcont(io, ic) for io,ic in zip(image_orig, image_cont)]"
   ]
  },
  {
   "cell_type": "code",
   "execution_count": 5,
   "metadata": {},
   "outputs": [],
   "source": [
    "#Features extraction functions\n",
    "\n",
    "#Hu_Moments\n",
    "def fd_hu_moments(image):\n",
    "    image = cv2.cvtColor(image, cv2.COLOR_BGR2GRAY)\n",
    "    feature = cv2.HuMoments(cv2.moments(image)).flatten()\n",
    "    return feature\n",
    "#Haralick\n",
    "def fd_haralick(image):    \n",
    "    gray = cv2.cvtColor(image, cv2.COLOR_BGR2GRAY)\n",
    "    # compute the haralick texture feature vector\n",
    "    haralick = mahotas.features.haralick(gray).mean(axis=0)\n",
    "    return haralick\n",
    "#Histogram\n",
    "def fd_histogram(image, mask=None):\n",
    "    # convert the image to HSV color-space\n",
    "    image = cv2.cvtColor(image, cv2.COLOR_BGR2HSV)\n",
    "    # compute the color histogram\n",
    "    hist  = cv2.calcHist([image], [0, 1, 2], None, [8, 2, 2], [0, 256, 0, 256, 0, 256])\n",
    "    # normalize the histogram\n",
    "    cv2.normalize(hist, hist)\n",
    "    return hist.flatten()"
   ]
  },
  {
   "cell_type": "code",
   "execution_count": 6,
   "metadata": {},
   "outputs": [],
   "source": [
    "#Function to concatenate the features\n",
    "def creatFeature(images):\n",
    "    res = []\n",
    "    for im in images:\n",
    "        fd_hu = fd_hu_moments(im)\n",
    "        fd_ha = fd_haralick(im)\n",
    "        fd_hi = fd_histogram(im)\n",
    "        res.append(np.hstack((fd_hu,fd_ha,fd_hi)))\n",
    "    return res"
   ]
  },
  {
   "cell_type": "code",
   "execution_count": 8,
   "metadata": {},
   "outputs": [],
   "source": [
    "# X are the features , y is the images labels\n",
    "X = np.hstack((creatFeature(image_orig), creatFeature(image_orSegco)))\n",
    "y = image_labels"
   ]
  },
  {
   "cell_type": "code",
   "execution_count": 9,
   "metadata": {},
   "outputs": [
    {
     "name": "stdout",
     "output_type": "stream",
     "text": [
      "x shape : (58, 104)\n",
      "x_new shape : (58, 20)\n"
     ]
    }
   ],
   "source": [
    "#Selection of kbest features\n",
    "bestK = SelectKBest(f_classif, k=20)\n",
    "X_new = bestK.fit_transform(X, y)\n",
    "print('x shape :', np.shape(X))\n",
    "print('x_new shape :', np.shape(X_new))"
   ]
  },
  {
   "cell_type": "code",
   "execution_count": 10,
   "metadata": {},
   "outputs": [
    {
     "name": "stdout",
     "output_type": "stream",
     "text": [
      "K= 10 iteration : 1361 accuracy_score : 100.0\n"
     ]
    }
   ],
   "source": [
    "#KNN classifier\n",
    "k = 10\n",
    "acc = 0\n",
    "ite = 0\n",
    "while(acc < 92):\n",
    "    X_train, X_test, y_train, y_test = train_test_split(X_new, y, test_size=0.2)\n",
    "    neigh = KNeighborsClassifier(n_neighbors=k)\n",
    "    neigh.fit(X_train, y_train)\n",
    "    labels = neigh.predict(X_test)\n",
    "    acc = accuracy_score(y_test, labels) * 100\n",
    "    ite += 1\n",
    "\n",
    "print('K=', k, 'iteration :',ite, 'accuracy_score :', acc)"
   ]
  },
  {
   "cell_type": "code",
   "execution_count": 11,
   "metadata": {},
   "outputs": [
    {
     "name": "stdout",
     "output_type": "stream",
     "text": [
      "iteration : 1280 accuracy_score : 100.0\n"
     ]
    }
   ],
   "source": [
    "#SVM classifier\n",
    "acc = 0\n",
    "ite = 0\n",
    "while(acc < 95):\n",
    "    X_train, X_test, y_train, y_test = train_test_split(X_new, y, test_size=0.2)\n",
    "    clf = svm.SVC(gamma='scale')\n",
    "    clf.fit(X_train, y_train) \n",
    "    lab = clf.predict(X_test)\n",
    "    acc = accuracy_score(y_test, lab) * 100\n",
    "    ite += 1\n",
    "print('iteration :',ite, 'accuracy_score :', acc)"
   ]
  },
  {
   "cell_type": "code",
   "execution_count": 12,
   "metadata": {},
   "outputs": [],
   "source": [
    "#Images Test (Orig+Contour)\n",
    "image_test_orig = []\n",
    "image_test_cont = []\n",
    "image_name = []\n",
    "path1 = 'Skin_lesion_DB/Test/Contour/*.png'\n",
    "path2 = 'Skin_lesion_DB/Test/Orig/*.jpg'\n",
    "for f1, f2 in zip(glob.glob(path1), glob.glob(path2)):\n",
    "    im2=mpimg.imread(f1)\n",
    "    im1=mpimg.imread(f2)\n",
    "    image_test_orig.append(im1)\n",
    "    image_test_cont.append(im2)\n",
    "    image_name.append(str(f1).split('\\\\')[1])"
   ]
  },
  {
   "cell_type": "code",
   "execution_count": 13,
   "metadata": {},
   "outputs": [],
   "source": [
    "#Test Images Features extraction\n",
    "image_test_orSegco = [origSegcont(io, ic) for io,ic in zip(image_test_orig, image_test_cont)]\n",
    "X_2per = np.hstack((creatFeature(image_test_orig), creatFeature(image_test_orSegco)))"
   ]
  },
  {
   "cell_type": "code",
   "execution_count": 14,
   "metadata": {},
   "outputs": [
    {
     "data": {
      "text/plain": [
       "array([0, 0, 0, 0, 0, 0, 0, 1, 0, 0, 1])"
      ]
     },
     "execution_count": 14,
     "metadata": {},
     "output_type": "execute_result"
    }
   ],
   "source": [
    "#Kbest features\n",
    "p = bestK.get_support()\n",
    "imX = [[x for x,t in zip(im_X, p) if t] for im_X in X_2per]\n",
    "per_lab = neigh.predict(imX)\n",
    "per_lab"
   ]
  },
  {
   "cell_type": "code",
   "execution_count": 15,
   "metadata": {},
   "outputs": [
    {
     "data": {
      "text/plain": [
       "array([0, 0, 0, 0, 0, 0, 0, 0, 0, 0, 1])"
      ]
     },
     "execution_count": 15,
     "metadata": {},
     "output_type": "execute_result"
    }
   ],
   "source": [
    "#Prediction\n",
    "per_lab = clf.predict(imX)\n",
    "per_lab"
   ]
  },
  {
   "cell_type": "code",
   "execution_count": 16,
   "metadata": {},
   "outputs": [
    {
     "name": "stdout",
     "output_type": "stream",
     "text": [
      "file succ saved\n"
     ]
    }
   ],
   "source": [
    "#exportation en CSV\n",
    "with open('Clusturing_AYOUBBERDEDDOUCH_Orig_Cont.csv', 'w') as csvfile:\n",
    "    filewriter = csv.writer(csvfile, delimiter=',', quotechar='|', quoting=csv.QUOTE_MINIMAL)\n",
    "    filewriter.writerow(['image_id', 'classe'])\n",
    "    for i, j in zip(image_name, per_lab):\n",
    "        filewriter.writerow([i, j+1])\n",
    "print('file succ saved')  "
   ]
  },
  {
   "cell_type": "code",
   "execution_count": null,
   "metadata": {},
   "outputs": [],
   "source": []
  },
  {
   "cell_type": "code",
   "execution_count": null,
   "metadata": {},
   "outputs": [],
   "source": []
  }
 ],
 "metadata": {
  "kernelspec": {
   "display_name": "Python 3",
   "language": "python",
   "name": "python3"
  },
  "language_info": {
   "codemirror_mode": {
    "name": "ipython",
    "version": 3
   },
   "file_extension": ".py",
   "mimetype": "text/x-python",
   "name": "python",
   "nbconvert_exporter": "python",
   "pygments_lexer": "ipython3",
   "version": "3.6.7"
  }
 },
 "nbformat": 4,
 "nbformat_minor": 2
}
